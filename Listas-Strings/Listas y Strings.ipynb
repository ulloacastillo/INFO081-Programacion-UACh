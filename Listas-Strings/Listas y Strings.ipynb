{
 "cells": [
  {
   "cell_type": "markdown",
   "id": "f466140d",
   "metadata": {},
   "source": [
    "# Clase 1: Listas y Strings\n",
    "\n",
    "## Ejercicio 1: Números primos\n",
    "\n",
    "Se recibirá como input un String de números enteros (cantidad de números variable) separado por una coma (,). El programa imprimir una lista con los\n",
    "números que aparecen en el String de entrada y si alguno de estos es primo se debe multiplicar por dos.\n",
    "\n",
    "```\n",
    "Input Ej: \"12,13,4,9,11\"\n",
    "Output Ej: [12,26,4,9,22]\n",
    "```"
   ]
  },
  {
   "cell_type": "markdown",
   "id": "7b7aa023",
   "metadata": {},
   "source": [
    "Funcion `map(func, iterator)` -> La funcion map() retorna un objeto map (objeto iterable, que puede ser convertido a lista) que es el resultado despues de aplicar una funcion dada a cada uno de los elementos del iterable (lista, tupla, etc).\n",
    "\n",
    "Por ejemplo: Tendremos una función que tome un elemento de tipo entero y retorna el cuadrado de ese número y queremos aplicar esta funcion a cada elemento de la lista. Una forma de hacerlo es:"
   ]
  },
  {
   "cell_type": "code",
   "execution_count": 1,
   "id": "4f7b3b02",
   "metadata": {},
   "outputs": [
    {
     "name": "stdout",
     "output_type": "stream",
     "text": [
      "[4, 9, 16]\n"
     ]
    }
   ],
   "source": [
    "def elevar_cuadrado(num):\n",
    "    return num**2\n",
    "\n",
    "lista = [2, 3, 4]\n",
    "for i, el in enumerate(lista):\n",
    "    lista[i] = elevar_cuadrado(el)\n",
    "print(lista) # > [4, 9, 16]"
   ]
  },
  {
   "cell_type": "markdown",
   "id": "aa00767e",
   "metadata": {},
   "source": [
    "Pero esto podemos hacerlo en una sola línea gracias a la función map:"
   ]
  },
  {
   "cell_type": "code",
   "execution_count": 2,
   "id": "88247a74",
   "metadata": {},
   "outputs": [
    {
     "name": "stdout",
     "output_type": "stream",
     "text": [
      "[4, 9, 16]\n"
     ]
    }
   ],
   "source": [
    "def elevar_cuadrado(num):\n",
    "    return num**2\n",
    "\n",
    "lista = [2, 3, 4]\n",
    "lista = list(map(elevar_cuadrado, lista))\n",
    "print(lista) # > [4, 9, 16]"
   ]
  },
  {
   "cell_type": "markdown",
   "id": "13865107",
   "metadata": {},
   "source": [
    "Esta funcion (`map`) nos puede ser util para este ejercicio dado que la entrada es recibida como string, sin embargo, necesitamos obtener trabajar esta lista como  una lista de enteros."
   ]
  },
  {
   "cell_type": "markdown",
   "id": "e95bd0d6",
   "metadata": {},
   "source": [
    "### Solucion\n",
    "\n",
    "El primer paso será recibir el input (como string) y separar este string de tal manera que podamos obtener una lista donde cada elemento es un número que se encuentra entre comas. Para separar este string utilizaremos el método de string `split`(https://www.w3schools.com/python/ref_string_split.asp) que nos retirna una lusta y luego cada elemento de esta lista lo transformaremos a un número entero.\n"
   ]
  },
  {
   "cell_type": "markdown",
   "id": "57af5c08",
   "metadata": {},
   "source": [
    "> `string.split(separador)` dado un string separa este en una lista dado un separador. Por ejemplo `\"1-2-3-4\".split('-')` retorna la lista `[\"1\", \"2\", \"3\", \"4\"]`. Notar que dado que estamos separando un string, la lista resultante tiene strings como elementos."
   ]
  },
  {
   "cell_type": "code",
   "execution_count": 17,
   "id": "8e33266d",
   "metadata": {},
   "outputs": [
    {
     "name": "stdout",
     "output_type": "stream",
     "text": [
      "1,2,3,4\n"
     ]
    }
   ],
   "source": [
    "text = input()\n",
    "numbers = list(map(int, text.split(\",\"))) # aplica la funcion int() a cada elemento de la lista separada"
   ]
  },
  {
   "cell_type": "markdown",
   "id": "d6bf5c10",
   "metadata": {},
   "source": [
    "Ahora que ya tenemos nuestra lista con numeros como elementos, crearemos la funcion `es_primo` que nos ayudará a decidir si multiplicamos el elemento por 2."
   ]
  },
  {
   "cell_type": "code",
   "execution_count": 18,
   "id": "ad1463ce",
   "metadata": {},
   "outputs": [],
   "source": [
    "def is_prime(num):\n",
    "    if num == 1:\n",
    "        return False\n",
    "    for i in range(2, num):\n",
    "        if num % i == 0:\n",
    "            return False\n",
    "    return True"
   ]
  },
  {
   "cell_type": "markdown",
   "id": "edae0598",
   "metadata": {},
   "source": [
    "Recorremos la lista de numeros y verificamos si hay algun número primo, si existe, lo multiplicamos por 2, cambiando su valor."
   ]
  },
  {
   "cell_type": "code",
   "execution_count": 19,
   "id": "29f1d15b",
   "metadata": {},
   "outputs": [
    {
     "data": {
      "text/plain": [
       "False"
      ]
     },
     "execution_count": 19,
     "metadata": {},
     "output_type": "execute_result"
    }
   ],
   "source": [
    "is_prime(1)"
   ]
  },
  {
   "cell_type": "code",
   "execution_count": 20,
   "id": "1f447e9a",
   "metadata": {},
   "outputs": [
    {
     "name": "stdout",
     "output_type": "stream",
     "text": [
      "[1, 4, 6, 4]\n"
     ]
    }
   ],
   "source": [
    "for i, number in enumerate(numbers):\n",
    "    if is_prime(number):\n",
    "        numbers[i] = 2*number\n",
    "        \n",
    "print(numbers)"
   ]
  },
  {
   "cell_type": "markdown",
   "id": "e157f75c",
   "metadata": {},
   "source": [
    "El programa finalmente quedará:"
   ]
  },
  {
   "cell_type": "code",
   "execution_count": 21,
   "id": "0dea4d99",
   "metadata": {},
   "outputs": [
    {
     "name": "stdout",
     "output_type": "stream",
     "text": [
      "1,2,3,4\n",
      "[1, 4, 6, 4]\n"
     ]
    }
   ],
   "source": [
    "def is_prime(num):\n",
    "    if num == 1:\n",
    "        return False\n",
    "    for i in range(2, num):\n",
    "        if num % i == 0:\n",
    "            return False\n",
    "    return True\n",
    "\n",
    "if __name__ == \"__main__\":\n",
    "    text = input()\n",
    "    numbers = list(map(int, text.split(\",\")))\n",
    "    \n",
    "    for i, number in enumerate(numbers):\n",
    "        if is_prime(number):\n",
    "            numbers[i] = 2*number\n",
    "        \n",
    "    print(numbers)"
   ]
  },
  {
   "cell_type": "markdown",
   "id": "4054e76c",
   "metadata": {},
   "source": [
    "> Desafío: ¿Podremos reducir la cantidad de lineas del main? ¿Usando otro map tal vez?"
   ]
  },
  {
   "cell_type": "markdown",
   "id": "c9fd9918",
   "metadata": {},
   "source": [
    "\n",
    "### Ejercicio 3: Desafío Sort\n",
    "\n",
    "Recibirás dos líneas de input (ambas Strings), donde cada línea debe ser tratada como lista. La primera lista tendrá strings y/o números y la \n",
    "segunda lista los índices que indican el orden de cada elemento en la lista final. Deberás ordenar la lista original según la secuencia dada por la \n",
    "segunda lista e imprimirla.\n",
    "\n",
    "```\n",
    "Input Ej: a b c\n",
    "          1 2 0\n",
    "Output Ej: [\"c\",\"a\",\"b\"] \n",
    "```"
   ]
  },
  {
   "cell_type": "code",
   "execution_count": 25,
   "id": "0b447e53",
   "metadata": {},
   "outputs": [
    {
     "name": "stdout",
     "output_type": "stream",
     "text": [
      "c b a\n",
      "2 1 0\n"
     ]
    }
   ],
   "source": [
    "unorder_list = input().split(\" \")\n",
    "indexes = list(map(int, input().split(\" \")))\n"
   ]
  },
  {
   "cell_type": "markdown",
   "id": "529596c2",
   "metadata": {},
   "source": [
    "Para resolver este ejercicio, podemos utilizar el método de listas `insert` para poder ir ingresando ordenadamente los elementos en una nueva lista."
   ]
  },
  {
   "cell_type": "markdown",
   "id": "33c0a52b",
   "metadata": {},
   "source": [
    "> `lista.insert(index, element)` inserta un element en la lista en un determinado index.\n",
    "\n"
   ]
  },
  {
   "cell_type": "code",
   "execution_count": 26,
   "id": "6f3a9845",
   "metadata": {},
   "outputs": [
    {
     "name": "stdout",
     "output_type": "stream",
     "text": [
      "['a', 'c', 'b']\n"
     ]
    }
   ],
   "source": [
    "order_list = []\n",
    "for idx in range(len(indexes)):\n",
    "    order_list.insert(indexes[idx], unorder_list[idx])\n",
    "print(order_list)"
   ]
  },
  {
   "cell_type": "markdown",
   "id": "0d29ec09",
   "metadata": {},
   "source": [
    "Otra manera es utilizando ir buscando ordenadamente los indices para ir agregando a la lista ordenada los valores de esos indices ordenadamente."
   ]
  },
  {
   "cell_type": "code",
   "execution_count": 27,
   "id": "942e8bf5",
   "metadata": {},
   "outputs": [],
   "source": [
    "order_list = []\n",
    "for i in range(len(indexes)):\n",
    "    for idx in range(len(indexes)):\n",
    "        if i == indexes[idx]:\n",
    "            order_list.append(unorder_list[idx])"
   ]
  },
  {
   "cell_type": "code",
   "execution_count": null,
   "id": "8dd0af98",
   "metadata": {},
   "outputs": [],
   "source": []
  }
 ],
 "metadata": {
  "kernelspec": {
   "display_name": "Python 3",
   "language": "python",
   "name": "python3"
  },
  "language_info": {
   "codemirror_mode": {
    "name": "ipython",
    "version": 3
   },
   "file_extension": ".py",
   "mimetype": "text/x-python",
   "name": "python",
   "nbconvert_exporter": "python",
   "pygments_lexer": "ipython3",
   "version": "3.9.5"
  }
 },
 "nbformat": 4,
 "nbformat_minor": 5
}
